{
  "nbformat": 4,
  "nbformat_minor": 0,
  "metadata": {
    "colab": {
      "provenance": [],
      "authorship_tag": "ABX9TyOJ7/v0HhmrcYdERSfGEK7q",
      "include_colab_link": true
    },
    "kernelspec": {
      "name": "python3",
      "display_name": "Python 3"
    },
    "language_info": {
      "name": "python"
    }
  },
  "cells": [
    {
      "cell_type": "markdown",
      "metadata": {
        "id": "view-in-github",
        "colab_type": "text"
      },
      "source": [
        "<a href=\"https://colab.research.google.com/github/Alice049/ml/blob/main/LR%E6%A2%AF%E5%BA%A6%E4%B8%8B%E9%99%8D.ipynb\" target=\"_parent\"><img src=\"https://colab.research.google.com/assets/colab-badge.svg\" alt=\"Open In Colab\"/></a>"
      ]
    },
    {
      "cell_type": "code",
      "execution_count": 60,
      "metadata": {
        "id": "vDQrIV1FA33e"
      },
      "outputs": [],
      "source": [
        "import numpy as np\n",
        "class LinearRegressionGD(object):\n",
        "  def __init__(self, eta=0.001, n_iter=20):\n",
        "    self.eta=eta\n",
        "    self.n_iter=n_iter\n",
        "  def fit(self,X,y):\n",
        "    self.w_=np.random.randn(1+X.shape[1])\n",
        "    self.cost_=[]\n",
        "    for i in range(self.n_iter):\n",
        "      output=self.lin_comb(X)\n",
        "      errors=(y-output)\n",
        "      self.w_[1:]+=self.eta*X.T.dot(errors)\n",
        "      self.w_[0]+=self.eta*errors.sum()\n",
        "      cost=(errors**2).sum()/2.0\n",
        "      self.cost_.append(cost)\n",
        "    return self\n",
        "  def lin_comb(self,X):\n",
        "    return np.dot(X,self.w_[1:])+self.w_[0]\n",
        "  def predict(self,X):\n",
        "    return self.lin_comb(X)\n"
      ]
    },
    {
      "cell_type": "code",
      "source": [
        "print([name for name in dir() if name in [\"LinearRegressionGD\"]])\n"
      ],
      "metadata": {
        "colab": {
          "base_uri": "https://localhost:8080/"
        },
        "id": "XpHmOpmIDs_D",
        "outputId": "f5a6b886-1324-4753-e0c7-44d8b0fff9b0"
      },
      "execution_count": 61,
      "outputs": [
        {
          "output_type": "stream",
          "name": "stdout",
          "text": [
            "['LinearRegressionGD']\n"
          ]
        }
      ]
    },
    {
      "cell_type": "code",
      "source": [
        "X=np.linspace(0,5,50)\n",
        "print(X[:4])"
      ],
      "metadata": {
        "colab": {
          "base_uri": "https://localhost:8080/"
        },
        "id": "evx9kUbkD7U6",
        "outputId": "6b411f99-2f41-4c59-c8ee-d50796164a19"
      },
      "execution_count": 62,
      "outputs": [
        {
          "output_type": "stream",
          "name": "stdout",
          "text": [
            "[0.         0.10204082 0.20408163 0.30612245]\n"
          ]
        }
      ]
    },
    {
      "cell_type": "code",
      "source": [
        "y=7.7*X+55+np.random.randn(50)\n",
        "print(y[:4])"
      ],
      "metadata": {
        "colab": {
          "base_uri": "https://localhost:8080/"
        },
        "id": "vfvACH0HED-0",
        "outputId": "e3629e88-dd73-44b1-bb78-01660f8984d7"
      },
      "execution_count": 63,
      "outputs": [
        {
          "output_type": "stream",
          "name": "stdout",
          "text": [
            "[55.25393888 57.24466375 55.92733705 57.02812829]\n"
          ]
        }
      ]
    },
    {
      "cell_type": "code",
      "source": [
        "lr=LinearRegressionGD(n_iter=350)\n",
        "#lr.fit(X.reshape(-1,1),y)"
      ],
      "metadata": {
        "id": "zBw_vI6HENYH"
      },
      "execution_count": 64,
      "outputs": []
    },
    {
      "cell_type": "code",
      "source": [
        "for tmp in[\"w\",\"cost_\"]:\n",
        "  print(tmp in dir(lr))"
      ],
      "metadata": {
        "colab": {
          "base_uri": "https://localhost:8080/"
        },
        "id": "C4Z0eKVLEnY_",
        "outputId": "933ad8ce-079e-4a25-9330-16808f7972e0"
      },
      "execution_count": 65,
      "outputs": [
        {
          "output_type": "stream",
          "name": "stdout",
          "text": [
            "False\n",
            "False\n"
          ]
        }
      ]
    },
    {
      "cell_type": "code",
      "source": [
        "print(lr.n_iter)"
      ],
      "metadata": {
        "colab": {
          "base_uri": "https://localhost:8080/"
        },
        "id": "NQ9FOat0Ewud",
        "outputId": "b7f5df28-8e17-4f89-c982-14c247ed054a"
      },
      "execution_count": 66,
      "outputs": [
        {
          "output_type": "stream",
          "name": "stdout",
          "text": [
            "350\n"
          ]
        }
      ]
    },
    {
      "cell_type": "code",
      "source": [
        "#lr=LinearRegressionGD(n_iter=350)\n",
        "lr.fit(X.reshape(-1,1), y)\n",
        "for tmp in [\"w_\",\"cost_\"]:\n",
        "  print(tmp in dir(lr))"
      ],
      "metadata": {
        "colab": {
          "base_uri": "https://localhost:8080/"
        },
        "id": "MtQ_vPLsE06T",
        "outputId": "6248cef1-09e5-46cc-f315-cb07e66deea4"
      },
      "execution_count": 67,
      "outputs": [
        {
          "output_type": "stream",
          "name": "stdout",
          "text": [
            "True\n",
            "True\n"
          ]
        }
      ]
    },
    {
      "cell_type": "code",
      "source": [
        "print(lr.w_)"
      ],
      "metadata": {
        "colab": {
          "base_uri": "https://localhost:8080/"
        },
        "id": "ud-wykLcHuRo",
        "outputId": "7de16c70-a91c-4b7b-98a1-e928bffd5bfd"
      },
      "execution_count": 68,
      "outputs": [
        {
          "output_type": "stream",
          "name": "stdout",
          "text": [
            "[54.07601406  7.94107826]\n"
          ]
        }
      ]
    },
    {
      "cell_type": "code",
      "source": [
        "print(lr.cost_[-3:])"
      ],
      "metadata": {
        "colab": {
          "base_uri": "https://localhost:8080/"
        },
        "id": "U9Go2tr3H1Cs",
        "outputId": "bda14004-a072-406a-d176-387fdc8557dd"
      },
      "execution_count": 69,
      "outputs": [
        {
          "output_type": "stream",
          "name": "stdout",
          "text": [
            "[31.19431479545334, 31.099940660482734, 31.00778199950181]\n"
          ]
        }
      ]
    },
    {
      "cell_type": "code",
      "source": [
        "X_new=np.array([2])\n",
        "print(lr.predict(X_new))"
      ],
      "metadata": {
        "colab": {
          "base_uri": "https://localhost:8080/"
        },
        "id": "ZCrcITeNH58f",
        "outputId": "bb66064c-b165-4721-fd89-0918716d3818"
      },
      "execution_count": 70,
      "outputs": [
        {
          "output_type": "stream",
          "name": "stdout",
          "text": [
            "69.95817056744416\n"
          ]
        }
      ]
    },
    {
      "cell_type": "code",
      "source": [
        "import matplotlib.pyplot as plt\n",
        "fig=plt.figure()\n",
        "ax=fig.add_subplot(111)\n",
        "ax.scatter(X,y)\n",
        "ax.plot(X,lr.predict(X.reshape(-1,1)),color='red',linewidth=2)"
      ],
      "metadata": {
        "colab": {
          "base_uri": "https://localhost:8080/",
          "height": 447
        },
        "id": "xpxWyKZfIYER",
        "outputId": "6d5c933b-6d97-4bf4-98b7-4b8175b2f0c5"
      },
      "execution_count": 71,
      "outputs": [
        {
          "output_type": "execute_result",
          "data": {
            "text/plain": [
              "[<matplotlib.lines.Line2D at 0x799e9a821420>]"
            ]
          },
          "metadata": {},
          "execution_count": 71
        },
        {
          "output_type": "display_data",
          "data": {
            "text/plain": [
              "<Figure size 640x480 with 1 Axes>"
            ],
            "image/png": "[encoded data removed]"
          },
          "metadata": {}
        }
      ]
    }
  ]
}