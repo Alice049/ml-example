{
  "nbformat": 4,
  "nbformat_minor": 0,
  "metadata": {
    "colab": {
      "provenance": [],
      "authorship_tag": "ABX9TyNq6JCvFNsGLkTgO+xg4wiM",
      "include_colab_link": true
    },
    "kernelspec": {
      "name": "ir",
      "display_name": "R"
    },
    "language_info": {
      "name": "R"
    }
  },
  "cells": [
    {
      "cell_type": "markdown",
      "metadata": {
        "id": "view-in-github",
        "colab_type": "text"
      },
      "source": [
        "<a href=\"https://colab.research.google.com/github/Alice049/ml/blob/main/MDP.ipynb\" target=\"_parent\"><img src=\"https://colab.research.google.com/assets/colab-badge.svg\" alt=\"Open In Colab\"/></a>"
      ]
    },
    {
      "cell_type": "markdown",
      "source": [
        "強化式學習\n",
        "強化式學處理的問題涉及序列相關的決策，解決這類問題的目標在於長期的最佳決策、作業研究、或稱運籌學中的確定性模型與隨機模型，馬可敷決策過程、動態規劃、馬可夫鏈、隨機過程、賽局理論受可以解決的方法。\n",
        "循序決策背後的基本思想是給定一個問題，需要解決不同部分但相關的問題，首先要將大問題拆解成許多子問題，並考慮相關系的問題之下解決子問題，最後再合併子問題的解可得出原問題的解。\n",
        "典型的機器學習這考慮眼前狀態，但是多步驟的短期解可能造成次優解，因為觀測值存在許多依存關係。許多統計模型假設個比觀測值間互相獨立，但事實上這個假設永遠無法成立。\n",
        "Gridworld說明強化式學習中的馬可夫決策過程MDP\n",
        "從起點開始，目標是達到出口，且不跌入坑中，每個時點而言，遊戲狀態定義為參賽者所在的格位，參加者的行動集有left、right、up和down四個方向。MDP評估由行動集所展開的政策，會加以限制，因此需要律定報酬矩陣，每多走一步就會有小懲罰，因為時間是強化學習優劣的重要評估，跌坑跟撞牆都會嚴厲懲罰，達到出口則有獎勵，這樣我們就能學習如何成功。\n",
        "總結來說，強化式學習MDP依以下五種元素進行學習：\n",
        "1可能的狀態所形成的集合\n",
        "2可能的行動所形成的集合\n",
        "3懲罰與獎勵所形成的報酬矩陣\n",
        "4可能的行動行程之各種政策\n",
        "5政策沿著時間這線後的價值"
      ],
      "metadata": {
        "id": "agcmklYzOCs7"
      }
    },
    {
      "cell_type": "code",
      "execution_count": 1,
      "metadata": {
        "colab": {
          "base_uri": "https://localhost:8080/"
        },
        "id": "T-ZyE1BNH4k4",
        "outputId": "6365dc93-2b8a-41f6-e4c7-44026a92c1bc"
      },
      "outputs": [
        {
          "output_type": "stream",
          "name": "stderr",
          "text": [
            "Installing package into ‘/usr/local/lib/R/site-library’\n",
            "(as ‘lib’ is unspecified)\n",
            "\n",
            "also installing the dependencies ‘lpSolve’, ‘linprog’\n",
            "\n",
            "\n"
          ]
        }
      ],
      "source": [
        "install.packages(\"MDPtoolbox\")"
      ]
    },
    {
      "cell_type": "code",
      "source": [
        "#上行行動的狀態轉移機率矩陣\n",
        "library(MDPtoolbox)\n",
        "up=matrix(c(1,0,0,0,0.7,0.2,0.1,0,0,0.1,0.2,0.7,0,0,0,1),nrow=4,ncol=4,byrow=TRUE)"
      ],
      "metadata": {
        "colab": {
          "base_uri": "https://localhost:8080/"
        },
        "id": "bm4Jck6ZLB45",
        "outputId": "0b9b5850-9fa9-47b4-c620-ba138f653a1c"
      },
      "execution_count": 2,
      "outputs": [
        {
          "output_type": "stream",
          "name": "stderr",
          "text": [
            "Loading required package: Matrix\n",
            "\n",
            "Loading required package: linprog\n",
            "\n",
            "Loading required package: lpSolve\n",
            "\n"
          ]
        }
      ]
    },
    {
      "cell_type": "code",
      "source": [
        "#下行行動的狀態轉移機率矩陣\n",
        "down=matrix(c(0.3,0.7,0,0,0,0.9,0.1,0,0,0.1,0.9,0,0,0,0.7,0.3),nrow=4,ncol=4,byrow=TRUE)"
      ],
      "metadata": {
        "id": "6J7iiAcpLa9T"
      },
      "execution_count": 3,
      "outputs": []
    },
    {
      "cell_type": "code",
      "source": [
        "down"
      ],
      "metadata": {
        "colab": {
          "base_uri": "https://localhost:8080/",
          "height": 177
        },
        "id": "AWAsnIWvMpV9",
        "outputId": "ea922680-e904-4b33-b477-a9f32fffedb3"
      },
      "execution_count": 6,
      "outputs": [
        {
          "output_type": "display_data",
          "data": {
            "text/html": [
              "<table class=\"dataframe\">\n",
              "<caption>A matrix: 4 × 4 of type dbl</caption>\n",
              "<tbody>\n",
              "\t<tr><td>0.3</td><td>0.7</td><td>0.0</td><td>0.0</td></tr>\n",
              "\t<tr><td>0.0</td><td>0.9</td><td>0.1</td><td>0.0</td></tr>\n",
              "\t<tr><td>0.0</td><td>0.1</td><td>0.9</td><td>0.0</td></tr>\n",
              "\t<tr><td>0.0</td><td>0.0</td><td>0.7</td><td>0.3</td></tr>\n",
              "</tbody>\n",
              "</table>\n"
            ],
            "text/markdown": "\nA matrix: 4 × 4 of type dbl\n\n| 0.3 | 0.7 | 0.0 | 0.0 |\n| 0.0 | 0.9 | 0.1 | 0.0 |\n| 0.0 | 0.1 | 0.9 | 0.0 |\n| 0.0 | 0.0 | 0.7 | 0.3 |\n\n",
            "text/latex": "A matrix: 4 × 4 of type dbl\n\\begin{tabular}{llll}\n\t 0.3 & 0.7 & 0.0 & 0.0\\\\\n\t 0.0 & 0.9 & 0.1 & 0.0\\\\\n\t 0.0 & 0.1 & 0.9 & 0.0\\\\\n\t 0.0 & 0.0 & 0.7 & 0.3\\\\\n\\end{tabular}\n",
            "text/plain": [
              "     [,1] [,2] [,3] [,4]\n",
              "[1,] 0.3  0.7  0.0  0.0 \n",
              "[2,] 0.0  0.9  0.1  0.0 \n",
              "[3,] 0.0  0.1  0.9  0.0 \n",
              "[4,] 0.0  0.0  0.7  0.3 "
            ]
          },
          "metadata": {}
        }
      ]
    },
    {
      "cell_type": "code",
      "source": [
        "#左行行動的狀態轉移機率矩陣\n",
        "left=matrix(c(0.9,0.1,0,0,0.1,0.9,0,0,0,0.7,0.2,0.1,0,0,0.1,0.9),nrow=4,ncol=4,byrow=TRUE)"
      ],
      "metadata": {
        "id": "Q0GRokB_LvMc"
      },
      "execution_count": 4,
      "outputs": []
    },
    {
      "cell_type": "code",
      "source": [
        "left"
      ],
      "metadata": {
        "colab": {
          "base_uri": "https://localhost:8080/",
          "height": 177
        },
        "id": "Bc3aoi_EMnTv",
        "outputId": "ebf2d601-6d66-4c5a-b1f0-d9c0056859b6"
      },
      "execution_count": 5,
      "outputs": [
        {
          "output_type": "display_data",
          "data": {
            "text/html": [
              "<table class=\"dataframe\">\n",
              "<caption>A matrix: 4 × 4 of type dbl</caption>\n",
              "<tbody>\n",
              "\t<tr><td>0.9</td><td>0.1</td><td>0.0</td><td>0.0</td></tr>\n",
              "\t<tr><td>0.1</td><td>0.9</td><td>0.0</td><td>0.0</td></tr>\n",
              "\t<tr><td>0.0</td><td>0.7</td><td>0.2</td><td>0.1</td></tr>\n",
              "\t<tr><td>0.0</td><td>0.0</td><td>0.1</td><td>0.9</td></tr>\n",
              "</tbody>\n",
              "</table>\n"
            ],
            "text/markdown": "\nA matrix: 4 × 4 of type dbl\n\n| 0.9 | 0.1 | 0.0 | 0.0 |\n| 0.1 | 0.9 | 0.0 | 0.0 |\n| 0.0 | 0.7 | 0.2 | 0.1 |\n| 0.0 | 0.0 | 0.1 | 0.9 |\n\n",
            "text/latex": "A matrix: 4 × 4 of type dbl\n\\begin{tabular}{llll}\n\t 0.9 & 0.1 & 0.0 & 0.0\\\\\n\t 0.1 & 0.9 & 0.0 & 0.0\\\\\n\t 0.0 & 0.7 & 0.2 & 0.1\\\\\n\t 0.0 & 0.0 & 0.1 & 0.9\\\\\n\\end{tabular}\n",
            "text/plain": [
              "     [,1] [,2] [,3] [,4]\n",
              "[1,] 0.9  0.1  0.0  0.0 \n",
              "[2,] 0.1  0.9  0.0  0.0 \n",
              "[3,] 0.0  0.7  0.2  0.1 \n",
              "[4,] 0.0  0.0  0.1  0.9 "
            ]
          },
          "metadata": {}
        }
      ]
    },
    {
      "cell_type": "code",
      "source": [
        "#右行行動的狀態轉移機率矩陣\n",
        "right=matrix(c(0.9,0.1,0,0,0.1,0.2,0.7,0,0,0,0.9,0.1,0,0,0.1,0.9),nrow=4,ncol=4,byrow=TRUE)"
      ],
      "metadata": {
        "id": "z9GWCsxKMsr4"
      },
      "execution_count": 7,
      "outputs": []
    },
    {
      "cell_type": "code",
      "source": [
        "right"
      ],
      "metadata": {
        "colab": {
          "base_uri": "https://localhost:8080/",
          "height": 177
        },
        "id": "6m8vibFNM_5B",
        "outputId": "8624e083-c6ae-4bee-b648-5e60e3b89f41"
      },
      "execution_count": 8,
      "outputs": [
        {
          "output_type": "display_data",
          "data": {
            "text/html": [
              "<table class=\"dataframe\">\n",
              "<caption>A matrix: 4 × 4 of type dbl</caption>\n",
              "<tbody>\n",
              "\t<tr><td>0.9</td><td>0.1</td><td>0.0</td><td>0.0</td></tr>\n",
              "\t<tr><td>0.1</td><td>0.2</td><td>0.7</td><td>0.0</td></tr>\n",
              "\t<tr><td>0.0</td><td>0.0</td><td>0.9</td><td>0.1</td></tr>\n",
              "\t<tr><td>0.0</td><td>0.0</td><td>0.1</td><td>0.9</td></tr>\n",
              "</tbody>\n",
              "</table>\n"
            ],
            "text/markdown": "\nA matrix: 4 × 4 of type dbl\n\n| 0.9 | 0.1 | 0.0 | 0.0 |\n| 0.1 | 0.2 | 0.7 | 0.0 |\n| 0.0 | 0.0 | 0.9 | 0.1 |\n| 0.0 | 0.0 | 0.1 | 0.9 |\n\n",
            "text/latex": "A matrix: 4 × 4 of type dbl\n\\begin{tabular}{llll}\n\t 0.9 & 0.1 & 0.0 & 0.0\\\\\n\t 0.1 & 0.2 & 0.7 & 0.0\\\\\n\t 0.0 & 0.0 & 0.9 & 0.1\\\\\n\t 0.0 & 0.0 & 0.1 & 0.9\\\\\n\\end{tabular}\n",
            "text/plain": [
              "     [,1] [,2] [,3] [,4]\n",
              "[1,] 0.9  0.1  0.0  0.0 \n",
              "[2,] 0.1  0.2  0.7  0.0 \n",
              "[3,] 0.0  0.0  0.9  0.1 \n",
              "[4,] 0.0  0.0  0.1  0.9 "
            ]
          },
          "metadata": {}
        }
      ]
    },
    {
      "cell_type": "markdown",
      "source": [
        "定義報酬矩陣並呼叫mdp函數，以MDP求解轉移機率為Actions，報酬矩陣為Rewards，折現因子為0.1的循序決策問題，因為是多期最佳化問題，所以要考慮折現因子。"
      ],
      "metadata": {
        "id": "sg1ubUWcZ77I"
      }
    },
    {
      "cell_type": "code",
      "source": [
        "#結合為行動集矩陣\n",
        "Actions=list(up=up,down=down,left=left,right=right)"
      ],
      "metadata": {
        "id": "nf9P0ImsNB89"
      },
      "execution_count": 9,
      "outputs": []
    },
    {
      "cell_type": "code",
      "source": [
        "#定義報酬矩陣\n",
        "Rewards=matrix(c(-1,-1,-1,-1,-1,-1,-1,-1,-1,-1,-1,-1,10,10,10,10),nrow=4,ncol=4,byrow=TRUE)"
      ],
      "metadata": {
        "id": "AQbooP54NL_e"
      },
      "execution_count": 10,
      "outputs": []
    },
    {
      "cell_type": "code",
      "source": [
        "#迭代式評估各種可能的政策\n",
        "solver=mdp_policy_iteration(P=Actions,R=Rewards,discount=0.1)"
      ],
      "metadata": {
        "id": "CBbGaBp6Nb17"
      },
      "execution_count": 11,
      "outputs": []
    },
    {
      "cell_type": "code",
      "source": [
        "#最佳政策\n",
        "solver$policy"
      ],
      "metadata": {
        "colab": {
          "base_uri": "https://localhost:8080/",
          "height": 34
        },
        "id": "-jvoyiJwNrqY",
        "outputId": "a0991bf4-b9f2-48e6-9749-0930aaaeb520"
      },
      "execution_count": 12,
      "outputs": [
        {
          "output_type": "display_data",
          "data": {
            "text/html": [
              "<style>\n",
              ".list-inline {list-style: none; margin:0; padding: 0}\n",
              ".list-inline>li {display: inline-block}\n",
              ".list-inline>li:not(:last-child)::after {content: \"\\00b7\"; padding: 0 .5ex}\n",
              "</style>\n",
              "<ol class=list-inline><li>2</li><li>4</li><li>1</li><li>1</li></ol>\n"
            ],
            "text/markdown": "1. 2\n2. 4\n3. 1\n4. 1\n\n\n",
            "text/latex": "\\begin{enumerate*}\n\\item 2\n\\item 4\n\\item 1\n\\item 1\n\\end{enumerate*}\n",
            "text/plain": [
              "[1] 2 4 1 1"
            ]
          },
          "metadata": {}
        }
      ]
    },
    {
      "cell_type": "code",
      "source": [
        "names(Actions)[solver$policy]"
      ],
      "metadata": {
        "colab": {
          "base_uri": "https://localhost:8080/",
          "height": 34
        },
        "id": "m5FnMT0hNv6e",
        "outputId": "9f2c5f32-cabd-4daa-d4f2-b917c7703aa6"
      },
      "execution_count": 14,
      "outputs": [
        {
          "output_type": "display_data",
          "data": {
            "text/html": [
              "<style>\n",
              ".list-inline {list-style: none; margin:0; padding: 0}\n",
              ".list-inline>li {display: inline-block}\n",
              ".list-inline>li:not(:last-child)::after {content: \"\\00b7\"; padding: 0 .5ex}\n",
              "</style>\n",
              "<ol class=list-inline><li>'down'</li><li>'right'</li><li>'up'</li><li>'up'</li></ol>\n"
            ],
            "text/markdown": "1. 'down'\n2. 'right'\n3. 'up'\n4. 'up'\n\n\n",
            "text/latex": "\\begin{enumerate*}\n\\item 'down'\n\\item 'right'\n\\item 'up'\n\\item 'up'\n\\end{enumerate*}\n",
            "text/plain": [
              "[1] \"down\"  \"right\" \"up\"    \"up\"   "
            ]
          },
          "metadata": {}
        }
      ]
    },
    {
      "cell_type": "code",
      "source": [
        "#迭代次數\n",
        "solver$iter"
      ],
      "metadata": {
        "colab": {
          "base_uri": "https://localhost:8080/",
          "height": 34
        },
        "id": "Ck1ggvfkN3-E",
        "outputId": "c5cbcf60-76df-4705-de5e-d3ee167e0135"
      },
      "execution_count": 15,
      "outputs": [
        {
          "output_type": "display_data",
          "data": {
            "text/html": [
              "2"
            ],
            "text/markdown": "2",
            "text/latex": "2",
            "text/plain": [
              "[1] 2"
            ]
          },
          "metadata": {}
        }
      ]
    },
    {
      "cell_type": "code",
      "source": [
        "#求解所花的時間\n",
        "solver$time"
      ],
      "metadata": {
        "colab": {
          "base_uri": "https://localhost:8080/",
          "height": 35
        },
        "id": "5kaYwP-TN7Kt",
        "outputId": "2eaa01ca-b34e-49eb-9cb5-cc40916e4de4"
      },
      "execution_count": 16,
      "outputs": [
        {
          "output_type": "display_data",
          "data": {
            "text/plain": [
              "Time difference of 0.06281829 secs"
            ]
          },
          "metadata": {}
        }
      ]
    },
    {
      "cell_type": "markdown",
      "source": [],
      "metadata": {
        "id": "oSelOeLMOCH6"
      }
    }
  ]
}