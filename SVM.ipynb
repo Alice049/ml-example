{
  "cells": [
    {
      "cell_type": "markdown",
      "metadata": {
        "id": "view-in-github",
        "colab_type": "text"
      },
      "source": [
        "<a href=\"https://colab.research.google.com/github/Alice049/ml/blob/main/SVM.ipynb\" target=\"_parent\"><img src=\"https://colab.research.google.com/assets/colab-badge.svg\" alt=\"Open In Colab\"/></a>"
      ]
    },
    {
      "cell_type": "code",
      "execution_count": null,
      "metadata": {
        "colab": {
          "base_uri": "https://localhost:8080/"
        },
        "id": "knydj2F9TxMy",
        "outputId": "ce5bf5e6-90ab-4db6-d1c6-e693dbe97603"
      },
      "outputs": [
        {
          "name": "stdout",
          "output_type": "stream",
          "text": [
            "letter    object\n",
            "xbox       int64\n",
            "ybox       int64\n",
            "width      int64\n",
            "height     int64\n",
            "onpix      int64\n",
            "xbar       int64\n",
            "ybar       int64\n",
            "x2bar      int64\n",
            "y2bar      int64\n",
            "xybar      int64\n",
            "x2ybar     int64\n",
            "xy2bar     int64\n",
            "xedge      int64\n",
            "xedgey     int64\n",
            "yedge      int64\n",
            "yedgex     int64\n",
            "dtype: object\n"
          ]
        }
      ],
      "source": [
        "import pandas as pd\n",
        "letters=pd.read_csv(\"/content/letterdata.csv\")\n",
        "print(letters.dtypes)"
      ]
    },
    {
      "cell_type": "code",
      "execution_count": null,
      "metadata": {
        "colab": {
          "base_uri": "https://localhost:8080/"
        },
        "id": "E9kvM7kXUZFE",
        "outputId": "82e4432c-fc0d-4e61-9017-f58d552b210f"
      },
      "outputs": [
        {
          "name": "stdout",
          "output_type": "stream",
          "text": [
            "       letter          xbox          ybox         width       height  \\\n",
            "count   20000  20000.000000  20000.000000  20000.000000  20000.00000   \n",
            "unique     26           NaN           NaN           NaN          NaN   \n",
            "top         U           NaN           NaN           NaN          NaN   \n",
            "freq      813           NaN           NaN           NaN          NaN   \n",
            "mean      NaN      4.023550      7.035500      5.121850      5.37245   \n",
            "std       NaN      1.913212      3.304555      2.014573      2.26139   \n",
            "min       NaN      0.000000      0.000000      0.000000      0.00000   \n",
            "25%       NaN      3.000000      5.000000      4.000000      4.00000   \n",
            "50%       NaN      4.000000      7.000000      5.000000      6.00000   \n",
            "75%       NaN      5.000000      9.000000      6.000000      7.00000   \n",
            "max       NaN     15.000000     15.000000     15.000000     15.00000   \n",
            "\n",
            "               onpix          xbar          ybar         x2bar         y2bar  \\\n",
            "count   20000.000000  20000.000000  20000.000000  20000.000000  20000.000000   \n",
            "unique           NaN           NaN           NaN           NaN           NaN   \n",
            "top              NaN           NaN           NaN           NaN           NaN   \n",
            "freq             NaN           NaN           NaN           NaN           NaN   \n",
            "mean        3.505850      6.897600      7.500450      4.628600      5.178650   \n",
            "std         2.190458      2.026035      2.325354      2.699968      2.380823   \n",
            "min         0.000000      0.000000      0.000000      0.000000      0.000000   \n",
            "25%         2.000000      6.000000      6.000000      3.000000      4.000000   \n",
            "50%         3.000000      7.000000      7.000000      4.000000      5.000000   \n",
            "75%         5.000000      8.000000      9.000000      6.000000      7.000000   \n",
            "max        15.000000     15.000000     15.000000     15.000000     15.000000   \n",
            "\n",
            "               xybar       x2ybar        xy2bar         xedge        xedgey  \\\n",
            "count   20000.000000  20000.00000  20000.000000  20000.000000  20000.000000   \n",
            "unique           NaN          NaN           NaN           NaN           NaN   \n",
            "top              NaN          NaN           NaN           NaN           NaN   \n",
            "freq             NaN          NaN           NaN           NaN           NaN   \n",
            "mean        8.282050      6.45400      7.929000      3.046100      8.338850   \n",
            "std         2.488475      2.63107      2.080619      2.332541      1.546722   \n",
            "min         0.000000      0.00000      0.000000      0.000000      0.000000   \n",
            "25%         7.000000      5.00000      7.000000      1.000000      8.000000   \n",
            "50%         8.000000      6.00000      8.000000      3.000000      8.000000   \n",
            "75%        10.000000      8.00000      9.000000      4.000000      9.000000   \n",
            "max        15.000000     15.00000     15.000000     15.000000     15.000000   \n",
            "\n",
            "               yedge       yedgex  \n",
            "count   20000.000000  20000.00000  \n",
            "unique           NaN          NaN  \n",
            "top              NaN          NaN  \n",
            "freq             NaN          NaN  \n",
            "mean        3.691750      7.80120  \n",
            "std         2.567073      1.61747  \n",
            "min         0.000000      0.00000  \n",
            "25%         2.000000      7.00000  \n",
            "50%         3.000000      8.00000  \n",
            "75%         5.000000      9.00000  \n",
            "max        15.000000     15.00000  \n"
          ]
        }
      ],
      "source": [
        "print(letters.describe(include='all'))"
      ]
    },
    {
      "cell_type": "code",
      "execution_count": null,
      "metadata": {
        "colab": {
          "base_uri": "https://localhost:8080/"
        },
        "id": "9osgIgsxUju2",
        "outputId": "614e9b85-c903-4f14-9832-9848808dead2"
      },
      "outputs": [
        {
          "name": "stdout",
          "output_type": "stream",
          "text": [
            "U    813\n",
            "D    805\n",
            "P    803\n",
            "T    796\n",
            "M    792\n",
            "A    789\n",
            "X    787\n",
            "Y    786\n",
            "N    783\n",
            "Q    783\n",
            "F    775\n",
            "G    773\n",
            "E    768\n",
            "B    766\n",
            "V    764\n",
            "L    761\n",
            "R    758\n",
            "I    755\n",
            "O    753\n",
            "W    752\n",
            "S    748\n",
            "J    747\n",
            "K    739\n",
            "C    736\n",
            "H    734\n",
            "Z    734\n",
            "Name: letter, dtype: int64\n"
          ]
        }
      ],
      "source": [
        "print(letters['letter'].value_counts())"
      ]
    },
    {
      "cell_type": "code",
      "execution_count": null,
      "metadata": {
        "colab": {
          "base_uri": "https://localhost:8080/"
        },
        "id": "8WhA1t-aUs-k",
        "outputId": "893bcfab-85df-4d58-f60b-36619ffd4ff9"
      },
      "outputs": [
        {
          "name": "stdout",
          "output_type": "stream",
          "text": [
            "(20000, 16)\n"
          ]
        }
      ],
      "source": [
        "from sklearn.feature_selection import VarianceThreshold\n",
        "vt=VarianceThreshold(threshold=0)\n",
        "print(vt.fit_transform(letters.iloc[:,1:]).shape)"
      ]
    },
    {
      "cell_type": "code",
      "execution_count": null,
      "metadata": {
        "colab": {
          "base_uri": "https://localhost:8080/"
        },
        "id": "nsR2nuUsVU-r",
        "outputId": "c3eb3483-34e7-4cdd-d1ed-3fda960dcd65"
      },
      "outputs": [
        {
          "name": "stdout",
          "output_type": "stream",
          "text": [
            "0\n"
          ]
        }
      ],
      "source": [
        "print(sum(vt.get_support()==False))"
      ]
    },
    {
      "cell_type": "code",
      "execution_count": null,
      "metadata": {
        "colab": {
          "base_uri": "https://localhost:8080/"
        },
        "id": "J5tZIeStV_Wd",
        "outputId": "12bced7c-8348-4e0d-d41b-82423a5913bf"
      },
      "outputs": [
        {
          "name": "stdout",
          "output_type": "stream",
          "text": [
            "[[1.         0.7577928  0.851514   0.67276367 0.61909688]\n",
            " [0.7577928  1.         0.67191188 0.82320706 0.55506655]\n",
            " [0.851514   0.67191188 1.         0.66021536 0.76571612]\n",
            " [0.67276367 0.82320706 0.66021536 1.         0.64436627]\n",
            " [0.61909688 0.55506655 0.76571612 0.64436627 1.        ]]\n"
          ]
        }
      ],
      "source": [
        "cor=letters.iloc[:,1:].corr().values\n",
        "print(cor[:5,:5])"
      ]
    },
    {
      "cell_type": "code",
      "execution_count": null,
      "metadata": {
        "colab": {
          "base_uri": "https://localhost:8080/"
        },
        "id": "v9_dOqcGWLrk",
        "outputId": "34c98e80-b7b6-4a90-e5dc-5deca816d554"
      },
      "outputs": [
        {
          "name": "stdout",
          "output_type": "stream",
          "text": [
            "[[False False  True False False]\n",
            " [False False False  True False]\n",
            " [ True False False False False]\n",
            " [False  True False False False]\n",
            " [False False False False False]]\n"
          ]
        }
      ],
      "source": [
        "import numpy as np\n",
        "np.fill_diagonal(cor,0)\n",
        "threTF=abs(cor)>0.8\n",
        "print(threTF[:5,:5])"
      ]
    },
    {
      "cell_type": "code",
      "execution_count": null,
      "metadata": {
        "colab": {
          "base_uri": "https://localhost:8080/"
        },
        "id": "3KYqFdWeWavL",
        "outputId": "cbfb05f3-fcbf-46c3-f6e3-65091c92f2e2"
      },
      "outputs": [
        {
          "name": "stdout",
          "output_type": "stream",
          "text": [
            "[[0 2]\n",
            " [1 3]\n",
            " [2 0]\n",
            " [3 1]]\n"
          ]
        }
      ],
      "source": [
        "print(np.argwhere(threTF==True))"
      ]
    },
    {
      "cell_type": "code",
      "execution_count": null,
      "metadata": {
        "colab": {
          "base_uri": "https://localhost:8080/"
        },
        "id": "Uae63-0cWibg",
        "outputId": "95597e9b-2592-4644-8d3c-75ef80bd0ab7"
      },
      "outputs": [
        {
          "name": "stdout",
          "output_type": "stream",
          "text": [
            "Index(['xbox', 'ybox', 'width', 'height'], dtype='object')\n"
          ]
        }
      ],
      "source": [
        "print(letters.columns[1:5])"
      ]
    },
    {
      "cell_type": "code",
      "execution_count": null,
      "metadata": {
        "colab": {
          "base_uri": "https://localhost:8080/",
          "height": 939
        },
        "id": "Uvh6o2m5WqH3",
        "outputId": "1b4cbe08-d8ee-433f-fca3-583ae61c0e26"
      },
      "outputs": [
        {
          "data": {
            "image/png": "[encoded data removed]",
            "text/plain": [
              "<Figure size 640x480 with 1 Axes>"
            ]
          },
          "metadata": {},
          "output_type": "display_data"
        },
        {
          "data": {
            "image/png": "[encoded data removed]",
            "text/plain": [
              "<Figure size 640x480 with 1 Axes>"
            ]
          },
          "metadata": {},
          "output_type": "display_data"
        }
      ],
      "source": [
        "ax1=letters[['xbox','letter']].boxplot(by='letter')\n",
        "fig1=ax1.get_figure()\n",
        "ax2=letters[['ybar','letter']].boxplot(by='letter')\n",
        "fig2=ax2.get_figure()"
      ]
    },
    {
      "cell_type": "code",
      "execution_count": null,
      "metadata": {
        "id": "zlSYl9OaXlwO"
      },
      "outputs": [],
      "source": [
        "from sklearn.model_selection import train_test_split\n",
        "X_train,X_test,y_train,y_test=train_test_split(letters.iloc[:,1:],letters['letter'],test_size=0.2,random_state=0)\n",
        "from sklearn.preprocessing import StandardScaler\n",
        "sc=StandardScaler()\n",
        "sc.fit(X_train)\n",
        "X_train_std=sc.transform(X_train)\n",
        "X_test_std=sc.transform(X_test)"
      ]
    },
    {
      "cell_type": "code",
      "execution_count": null,
      "metadata": {
        "colab": {
          "base_uri": "https://localhost:8080/"
        },
        "id": "7HcnCXyFYqy0",
        "outputId": "1b4a7fd9-9cb7-4d74-f7fd-0f4e5447642f"
      },
      "outputs": [
        {
          "output_type": "stream",
          "name": "stdout",
          "text": [
            "['I' 'M' 'Z' 'D' 'G']\n"
          ]
        }
      ],
      "source": [
        "from sklearn.svm import SVC\n",
        "svm=SVC()\n",
        "svm.fit(X_train_std,y_train)\n",
        "tr_pred=svm.predict(X_train_std)\n",
        "y_pred=svm.predict(X_test_std)\n",
        "print(tr_pred[:5])"
      ]
    },
    {
      "cell_type": "code",
      "execution_count": null,
      "metadata": {
        "colab": {
          "base_uri": "https://localhost:8080/"
        },
        "id": "aqu_yCX_ZXau",
        "outputId": "18ad8971-5fc3-421f-be78-56583c0a4290"
      },
      "outputs": [
        {
          "name": "stdout",
          "output_type": "stream",
          "text": [
            "17815    I\n",
            "18370    M\n",
            "1379     Z\n",
            "14763    D\n",
            "7346     L\n",
            "Name: letter, dtype: object\n"
          ]
        }
      ],
      "source": [
        "print(y_train[:5])"
      ]
    },
    {
      "cell_type": "code",
      "execution_count": null,
      "metadata": {
        "colab": {
          "base_uri": "https://localhost:8080/"
        },
        "id": "Prqhs6OoZc1M",
        "outputId": "77d8a1a1-4efc-496d-8bc4-5bf919cc14be"
      },
      "outputs": [
        {
          "name": "stdout",
          "output_type": "stream",
          "text": [
            "['Y' 'B' 'K' 'X' 'Q']\n"
          ]
        }
      ],
      "source": [
        "print(y_pred[:5])"
      ]
    },
    {
      "cell_type": "code",
      "execution_count": null,
      "metadata": {
        "colab": {
          "base_uri": "https://localhost:8080/"
        },
        "id": "WA2Kmhh-ZjXS",
        "outputId": "48151452-7a8b-4032-f0b5-ac72aebbdf51"
      },
      "outputs": [
        {
          "name": "stdout",
          "output_type": "stream",
          "text": [
            "['Y', 'B', 'K', 'Y', 'Q']\n"
          ]
        }
      ],
      "source": [
        "print(y_test[:5].tolist())"
      ]
    },
    {
      "cell_type": "code",
      "execution_count": null,
      "metadata": {
        "colab": {
          "base_uri": "https://localhost:8080/"
        },
        "id": "NJCCFt0hZpm7",
        "outputId": "eac0560d-1dee-4d97-d396-25b62092422d"
      },
      "outputs": [
        {
          "name": "stdout",
          "output_type": "stream",
          "text": [
            "訓練集錯誤率為:0.04119\n"
          ]
        }
      ],
      "source": [
        "err_tr=(y_train!=tr_pred).sum()/len(y_train)\n",
        "print('訓練集錯誤率為:%.5f'%err_tr)"
      ]
    },
    {
      "cell_type": "code",
      "execution_count": null,
      "metadata": {
        "colab": {
          "base_uri": "https://localhost:8080/"
        },
        "id": "GhRpO-kaZ9MD",
        "outputId": "04298923-33c0-41bf-b745-ca00dd537f74"
      },
      "outputs": [
        {
          "name": "stdout",
          "output_type": "stream",
          "text": [
            "['I' 'M' 'Z' 'D' 'L']\n"
          ]
        }
      ],
      "source": [
        "svm=SVC(kernel='rbf',random_state=0,gamma=0.2,C=1.0)\n",
        "svm.fit(X_train_std,y_train)\n",
        "tr_pred=svm.predict(X_train_std)\n",
        "y_pred=svm.predict(X_test_std)\n",
        "print(tr_pred[:5])"
      ]
    },
    {
      "cell_type": "code",
      "execution_count": null,
      "metadata": {
        "colab": {
          "base_uri": "https://localhost:8080/"
        },
        "id": "Dh20P9PeauH5",
        "outputId": "31ee347c-ac45-4848-fa28-060ec20e7d64"
      },
      "outputs": [
        {
          "name": "stdout",
          "output_type": "stream",
          "text": [
            "17815    I\n",
            "18370    M\n",
            "1379     Z\n",
            "14763    D\n",
            "7346     L\n",
            "Name: letter, dtype: object\n"
          ]
        }
      ],
      "source": [
        "print(y_train[:5])"
      ]
    },
    {
      "cell_type": "code",
      "execution_count": null,
      "metadata": {
        "colab": {
          "base_uri": "https://localhost:8080/"
        },
        "id": "xrcTeWbkaz8d",
        "outputId": "ffb85f6b-eb74-4671-d33f-baa4bcfb87c8"
      },
      "outputs": [
        {
          "name": "stdout",
          "output_type": "stream",
          "text": [
            "['Y' 'B' 'K' 'X' 'Q']\n"
          ]
        }
      ],
      "source": [
        "print(y_pred[:5])"
      ]
    },
    {
      "cell_type": "code",
      "execution_count": null,
      "metadata": {
        "colab": {
          "base_uri": "https://localhost:8080/"
        },
        "id": "aJwGU8iaa5H8",
        "outputId": "5495d93b-edb4-4d76-e307-d4f2846dec85"
      },
      "outputs": [
        {
          "name": "stdout",
          "output_type": "stream",
          "text": [
            "['Y', 'B', 'K', 'Y', 'Q']\n"
          ]
        }
      ],
      "source": [
        "print(y_test[:5].tolist())"
      ]
    },
    {
      "cell_type": "code",
      "execution_count": null,
      "metadata": {
        "colab": {
          "base_uri": "https://localhost:8080/"
        },
        "id": "3PN5adcSbDSo",
        "outputId": "e9374030-698b-4c68-b673-9ed22fa2d8a2"
      },
      "outputs": [
        {
          "name": "stdout",
          "output_type": "stream",
          "text": [
            "訓練集錯誤率為：0.01175\n"
          ]
        }
      ],
      "source": [
        "err_tr=(y_train.values!=tr_pred).sum()/len(y_train)\n",
        "print('訓練集錯誤率為：%.5f'%err_tr)"
      ]
    },
    {
      "cell_type": "code",
      "execution_count": null,
      "metadata": {
        "colab": {
          "base_uri": "https://localhost:8080/"
        },
        "id": "HhUq1McSbWi2",
        "outputId": "a8c1fc48-c969-40bd-cab6-bac62083ed38"
      },
      "outputs": [
        {
          "name": "stdout",
          "output_type": "stream",
          "text": [
            "測試集錯誤率為:0.02750\n"
          ]
        }
      ],
      "source": [
        "err=(y_test!=y_pred).sum()/len(y_test)\n",
        "print('測試集錯誤率為:%.5f'%err)"
      ]
    },
    {
      "cell_type": "code",
      "source": [
        "pip install pandas_ml"
      ],
      "metadata": {
        "colab": {
          "base_uri": "https://localhost:8080/"
        },
        "id": "lWKQpn39c9r4",
        "outputId": "ad11685a-b164-4905-f836-60d1b3dcc2b7"
      },
      "execution_count": null,
      "outputs": [
        {
          "output_type": "stream",
          "name": "stdout",
          "text": [
            "Looking in indexes: https://pypi.org/simple, https://us-python.pkg.dev/colab-wheels/public/simple/\n",
            "Requirement already satisfied: pandas_ml in /usr/local/lib/python3.10/dist-packages (0.6.1)\n",
            "Requirement already satisfied: pandas>=0.19.0 in /usr/local/lib/python3.10/dist-packages (from pandas_ml) (1.5.3)\n",
            "Requirement already satisfied: enum34 in /usr/local/lib/python3.10/dist-packages (from pandas_ml) (1.1.10)\n",
            "Requirement already satisfied: python-dateutil>=2.8.1 in /usr/local/lib/python3.10/dist-packages (from pandas>=0.19.0->pandas_ml) (2.8.2)\n",
            "Requirement already satisfied: pytz>=2020.1 in /usr/local/lib/python3.10/dist-packages (from pandas>=0.19.0->pandas_ml) (2022.7.1)\n",
            "Requirement already satisfied: numpy>=1.21.0 in /usr/local/lib/python3.10/dist-packages (from pandas>=0.19.0->pandas_ml) (1.22.4)\n",
            "Requirement already satisfied: six>=1.5 in /usr/local/lib/python3.10/dist-packages (from python-dateutil>=2.8.1->pandas>=0.19.0->pandas_ml) (1.16.0)\n"
          ]
        }
      ]
    },
    {
      "cell_type": "code",
      "execution_count": null,
      "metadata": {
        "id": "kolxU72Xbmjc"
      },
      "outputs": [],
      "source": [
        "#import pandas_ml as pdml\n",
        "##from sklearn.matrics import jaccard_similarity_score\n",
        "#cm=pdml.ConfusionMatrix(y_test.values,y_pred)\n",
        "#cm_df=cm.to_dataframe(normalized=False,calc_sum=True,sum_label='all')\n",
        "#print(cm_df.iloc[:12, :12])"
      ]
    },
    {
      "cell_type": "code",
      "source": [
        "import matplotlib.pyplot as plt\n",
        "#ax=cm.plot()\n",
        "#fig=ax.get_figure()"
      ],
      "metadata": {
        "id": "o1-41UDdgTDk"
      },
      "execution_count": null,
      "outputs": []
    }
  ],
  "metadata": {
    "colab": {
      "provenance": [],
      "authorship_tag": "ABX9TyOs4LjczfZ70nXQs2oSE1dG",
      "include_colab_link": true
    },
    "kernelspec": {
      "display_name": "Python 3",
      "name": "python3"
    },
    "language_info": {
      "name": "python"
    }
  },
  "nbformat": 4,
  "nbformat_minor": 0
}