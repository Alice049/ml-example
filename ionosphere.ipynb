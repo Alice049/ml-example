{
  "nbformat": 4,
  "nbformat_minor": 0,
  "metadata": {
    "colab": {
      "provenance": [],
      "authorship_tag": "ABX9TyPUVKbgZiTtlsC/CZazHjVp",
      "include_colab_link": true
    },
    "kernelspec": {
      "name": "python3",
      "display_name": "Python 3"
    },
    "language_info": {
      "name": "python"
    }
  },
  "cells": [
    {
      "cell_type": "markdown",
      "metadata": {
        "id": "view-in-github",
        "colab_type": "text"
      },
      "source": [
        "<a href=\"https://colab.research.google.com/github/Alice049/ml/blob/main/ionosphere.ipynb\" target=\"_parent\"><img src=\"https://colab.research.google.com/assets/colab-badge.svg\" alt=\"Open In Colab\"/></a>"
      ]
    },
    {
      "cell_type": "markdown",
      "source": [
        "加拿大東北沿海拉布拉多地區\n",
        "16個高頻天線形成的相位陣列\n",
        "總傳輸功率呈6.4千瓦的量綱\n",
        "目標變數值Good表示電離層的自由電子呈現某種節構\n",
        "接收到預測變數，經由自我相關函數aucocorrelation function的處理\n",
        "函數的引數為脈衝編號及其時間ㄝ\n",
        "17個脈衝編號各自有兩個屬性，分別是電磁訊號的兩個複數值，因此屬性矩陣共有34個預測變數．\n",
        "讀入按機器學習人群的習慣，將資料存為屬性矩陣與類別標籤向量，並分別檢視維度與維數．\n",
        "切分為75%與25%的訓練集與測試集之前，先檢查預測變數有無名目屬性，以及可能的遺缺值，結果發現此資料集非常適合k近鄰分類學習．"
      ],
      "metadata": {
        "id": "fVfewqExRJ22"
      }
    },
    {
      "cell_type": "code",
      "execution_count": null,
      "metadata": {
        "id": "4Q0b0A-uv9PH"
      },
      "outputs": [],
      "source": [
        "import numpy as np\n",
        "import pandas as pd\n",
        "iono=pd.read_csv(\"/content/ionosphere.data\",header=None)\n",
        "X=iono.iloc[:,:-1]\n",
        "y=iono.iloc[:,-1]"
      ]
    },
    {
      "cell_type": "code",
      "source": [
        "print(X.shape)"
      ],
      "metadata": {
        "colab": {
          "base_uri": "https://localhost:8080/"
        },
        "id": "b50RNhmhzZwc",
        "outputId": "63d2a780-c2cd-46a5-8774-16fb2c8fcb42"
      },
      "execution_count": null,
      "outputs": [
        {
          "output_type": "stream",
          "name": "stdout",
          "text": [
            "(351, 34)\n"
          ]
        }
      ]
    },
    {
      "cell_type": "code",
      "source": [
        "print(y.shape)"
      ],
      "metadata": {
        "colab": {
          "base_uri": "https://localhost:8080/"
        },
        "id": "pvzXtLS4zfB8",
        "outputId": "56de98c5-5458-40f2-dd8b-b0838b606d04"
      },
      "execution_count": null,
      "outputs": [
        {
          "output_type": "stream",
          "name": "stdout",
          "text": [
            "(351,)\n"
          ]
        }
      ]
    },
    {
      "cell_type": "code",
      "source": [
        "print(X.dtypes)"
      ],
      "metadata": {
        "colab": {
          "base_uri": "https://localhost:8080/"
        },
        "id": "HW06o_mdzmFs",
        "outputId": "7d0ed915-f5e9-47ab-ed2b-7b77b8319cb3"
      },
      "execution_count": null,
      "outputs": [
        {
          "output_type": "stream",
          "name": "stdout",
          "text": [
            "0       int64\n",
            "1       int64\n",
            "2     float64\n",
            "3     float64\n",
            "4     float64\n",
            "5     float64\n",
            "6     float64\n",
            "7     float64\n",
            "8     float64\n",
            "9     float64\n",
            "10    float64\n",
            "11    float64\n",
            "12    float64\n",
            "13    float64\n",
            "14    float64\n",
            "15    float64\n",
            "16    float64\n",
            "17    float64\n",
            "18    float64\n",
            "19    float64\n",
            "20    float64\n",
            "21    float64\n",
            "22    float64\n",
            "23    float64\n",
            "24    float64\n",
            "25    float64\n",
            "26    float64\n",
            "27    float64\n",
            "28    float64\n",
            "29    float64\n",
            "30    float64\n",
            "31    float64\n",
            "32    float64\n",
            "33    float64\n",
            "dtype: object\n"
          ]
        }
      ]
    },
    {
      "cell_type": "code",
      "source": [
        "print(\"遺缺{}個數值\".format(X.isnull().sum().sum()))"
      ],
      "metadata": {
        "colab": {
          "base_uri": "https://localhost:8080/"
        },
        "id": "21qsphahzyag",
        "outputId": "61674346-7920-4b58-b200-5946dfaf15a7"
      },
      "execution_count": null,
      "outputs": [
        {
          "output_type": "stream",
          "name": "stdout",
          "text": [
            "遺缺0個數值\n"
          ]
        }
      ]
    },
    {
      "cell_type": "code",
      "source": [
        "from sklearn.model_selection import train_test_split\n",
        "X_train,X_test,y_train,y_test=train_test_split(X,y,random_state=14)\n",
        "print(\"訓練集有{}樣本\".format(X_train.shape[0]))"
      ],
      "metadata": {
        "colab": {
          "base_uri": "https://localhost:8080/"
        },
        "id": "Q9wR9UQfz-b4",
        "outputId": "8acc5116-86bb-4ecf-c172-87722dfa2980"
      },
      "execution_count": null,
      "outputs": [
        {
          "output_type": "stream",
          "name": "stdout",
          "text": [
            "訓練集有263樣本\n"
          ]
        }
      ]
    },
    {
      "cell_type": "code",
      "source": [
        "print(\"每個樣本有{}個屬性\".format(X_train.shape[1]))"
      ],
      "metadata": {
        "colab": {
          "base_uri": "https://localhost:8080/"
        },
        "id": "stWlG7pK0l4z",
        "outputId": "7ac50c12-f186-4dc4-d1c9-51678fd23bea"
      },
      "execution_count": null,
      "outputs": [
        {
          "output_type": "stream",
          "name": "stdout",
          "text": [
            "每個樣本有34個屬性\n"
          ]
        }
      ]
    },
    {
      "cell_type": "code",
      "source": [
        "print(\"測試集有{}樣本\".format(X_test.shape[0]))"
      ],
      "metadata": {
        "colab": {
          "base_uri": "https://localhost:8080/"
        },
        "id": "094BrRVEJl0C",
        "outputId": "3612be11-19fb-4f58-ab17-e0159404055b"
      },
      "execution_count": null,
      "outputs": [
        {
          "output_type": "stream",
          "name": "stdout",
          "text": [
            "測試集有88樣本\n"
          ]
        }
      ]
    },
    {
      "cell_type": "code",
      "source": [
        "print(\"資料集類別分布為：\\n{}\".format(y.value_counts()/len(y)))"
      ],
      "metadata": {
        "colab": {
          "base_uri": "https://localhost:8080/"
        },
        "id": "DZ-zRc1q0_NA",
        "outputId": "30092071-ac52-4a7d-b18c-7082afe27b05"
      },
      "execution_count": null,
      "outputs": [
        {
          "output_type": "stream",
          "name": "stdout",
          "text": [
            "資料集類別分布為：\n",
            "g    0.641026\n",
            "b    0.358974\n",
            "Name: 34, dtype: float64\n"
          ]
        }
      ]
    },
    {
      "cell_type": "code",
      "source": [
        "print(\"訓練集類別分布為：\\n{}\".format(y_train.value_counts()/len(y_train)))"
      ],
      "metadata": {
        "colab": {
          "base_uri": "https://localhost:8080/"
        },
        "id": "-NOf4Ole1VFt",
        "outputId": "100edc1c-e186-46fc-af9d-1583eb6bd20f"
      },
      "execution_count": null,
      "outputs": [
        {
          "output_type": "stream",
          "name": "stdout",
          "text": [
            "訓練集類別分布為：\n",
            "g    0.638783\n",
            "b    0.361217\n",
            "Name: 34, dtype: float64\n"
          ]
        }
      ]
    },
    {
      "cell_type": "code",
      "source": [
        "print(\"測試集類別分佈為:\\n{}.\".format(y_test.value_counts()/len(y_test)))"
      ],
      "metadata": {
        "colab": {
          "base_uri": "https://localhost:8080/"
        },
        "id": "b_qRT7aVKCxy",
        "outputId": "607dfe02-4c26-45cc-ff80-487f3032ebca"
      },
      "execution_count": null,
      "outputs": [
        {
          "output_type": "stream",
          "name": "stdout",
          "text": [
            "測試集類別分佈為:\n",
            "g    0.647727\n",
            "b    0.352273\n",
            "Name: 34, dtype: float64.\n"
          ]
        }
      ]
    },
    {
      "cell_type": "code",
      "source": [
        "from sklearn.preprocessing import StandardScaler\n",
        "sc= StandardScaler()\n",
        "X_train_std=sc.fit_transform(X_train)\n",
        "X_test_std=sc.transform(X_test)\n",
        "X_std=sc.fit_transform(X)"
      ],
      "metadata": {
        "id": "DizLafhR2CDQ"
      },
      "execution_count": null,
      "outputs": []
    },
    {
      "cell_type": "code",
      "source": [
        "from sklearn.neighbors import KNeighborsClassifier\n",
        "estimator=KNeighborsClassifier()\n",
        "estimator.fit(X_train_std,y_train)\n",
        "for name in['metric','n_neighbors','p']:\n",
        "  print(estimator.get_params()[name])"
      ],
      "metadata": {
        "colab": {
          "base_uri": "https://localhost:8080/"
        },
        "id": "N00uRJ_kKmZF",
        "outputId": "24d07fe9-002e-449a-e0a3-3ed9073026db"
      },
      "execution_count": null,
      "outputs": [
        {
          "output_type": "stream",
          "name": "stdout",
          "text": [
            "minkowski\n",
            "5\n",
            "2\n"
          ]
        }
      ]
    },
    {
      "cell_type": "code",
      "source": [
        "train_pred=estimator.predict(X_train_std)\n",
        "print(train_pred[:5])"
      ],
      "metadata": {
        "colab": {
          "base_uri": "https://localhost:8080/"
        },
        "id": "mo2x66PcLRcH",
        "outputId": "1fec40aa-5ac6-47fe-fb15-056ab6659710"
      },
      "execution_count": null,
      "outputs": [
        {
          "output_type": "stream",
          "name": "stdout",
          "text": [
            "['b' 'g' 'b' 'g' 'b']\n"
          ]
        }
      ]
    },
    {
      "cell_type": "code",
      "source": [
        "print(y_train[:5])"
      ],
      "metadata": {
        "colab": {
          "base_uri": "https://localhost:8080/"
        },
        "id": "vJbS34wiLiDh",
        "outputId": "868f80bb-6a31-4f2f-d69e-b6a18f140713"
      },
      "execution_count": null,
      "outputs": [
        {
          "output_type": "stream",
          "name": "stdout",
          "text": [
            "51     b\n",
            "24     g\n",
            "168    b\n",
            "136    b\n",
            "71     b\n",
            "Name: 34, dtype: object\n"
          ]
        }
      ]
    },
    {
      "cell_type": "code",
      "source": [
        "train_acc=np.mean(y_train==train_pred)*100\n",
        "print(\"訓練集正確率為{0:.1f}%\".format(train_acc))"
      ],
      "metadata": {
        "colab": {
          "base_uri": "https://localhost:8080/"
        },
        "id": "KkPBJLxXLojf",
        "outputId": "eb8c8921-6e8e-4ff8-ec2c-1d0c8d791ee2"
      },
      "execution_count": null,
      "outputs": [
        {
          "output_type": "stream",
          "name": "stdout",
          "text": [
            "訓練集正確率為87.1%\n"
          ]
        }
      ]
    },
    {
      "cell_type": "code",
      "source": [
        "y_pred=estimator.predict(X_test_std)\n",
        "print(y_pred[:5])"
      ],
      "metadata": {
        "colab": {
          "base_uri": "https://localhost:8080/"
        },
        "id": "XMVn85G0L_92",
        "outputId": "1cc329df-c27f-4982-d4e3-078b60f808d0"
      },
      "execution_count": null,
      "outputs": [
        {
          "output_type": "stream",
          "name": "stdout",
          "text": [
            "['g' 'g' 'g' 'g' 'g']\n"
          ]
        }
      ]
    },
    {
      "cell_type": "code",
      "source": [
        "print(y_test[:5])"
      ],
      "metadata": {
        "colab": {
          "base_uri": "https://localhost:8080/"
        },
        "id": "QAAnkizqMN38",
        "outputId": "81b830ca-9411-4162-fc30-d3c44fb291de"
      },
      "execution_count": null,
      "outputs": [
        {
          "output_type": "stream",
          "name": "stdout",
          "text": [
            "14     g\n",
            "1      b\n",
            "44     g\n",
            "245    g\n",
            "288    g\n",
            "Name: 34, dtype: object\n"
          ]
        }
      ]
    },
    {
      "cell_type": "code",
      "source": [
        "test_acc=np.mean(y_test==y_pred)*100\n",
        "print(\"測試集正確率為{0:.1f}%\".format(test_acc))"
      ],
      "metadata": {
        "colab": {
          "base_uri": "https://localhost:8080/"
        },
        "id": "VC8FBimqMU4W",
        "outputId": "1e84c963-9053-49ae-8871-84632c7551e7"
      },
      "execution_count": null,
      "outputs": [
        {
          "output_type": "stream",
          "name": "stdout",
          "text": [
            "測試集正確率為87.5%\n"
          ]
        }
      ]
    },
    {
      "cell_type": "code",
      "source": [
        "from sklearn.model_selection import cross_val_score\n",
        "scores=cross_val_score(estimator,X_std,y,scoring='accuracy')\n",
        "print(scores.shape)"
      ],
      "metadata": {
        "colab": {
          "base_uri": "https://localhost:8080/"
        },
        "id": "FZuyh81CMrJ8",
        "outputId": "9d6c8c99-b8d5-4421-c292-c27c48cafe60"
      },
      "execution_count": null,
      "outputs": [
        {
          "output_type": "stream",
          "name": "stdout",
          "text": [
            "(5,)\n"
          ]
        }
      ]
    },
    {
      "cell_type": "code",
      "source": [
        "average_accuracy=np.mean(scores)*100\n",
        "print(\"三次平均正確率為{0:.1f}%\".format(average_accuracy))"
      ],
      "metadata": {
        "colab": {
          "base_uri": "https://localhost:8080/"
        },
        "id": "CLqlEoCwNW7Y",
        "outputId": "7d302304-3690-4944-8f2b-82c357e39452"
      },
      "execution_count": null,
      "outputs": [
        {
          "output_type": "stream",
          "name": "stdout",
          "text": [
            "三次平均正確率為82.9%\n"
          ]
        }
      ]
    },
    {
      "cell_type": "code",
      "source": [
        "avg_scores=[]\n",
        "all_scores=[]\n",
        "parameter_values=list(range(1,21))\n",
        "for n_neighbors in parameter_values:\n",
        "  estimator=KNeighborsClassifier(n_neighbors=n_neighbors)\n",
        "  sc=cross_val_score(estimator,X_std,y,scoring='accuracy')\n",
        "  avg_scores.append(np.mean(sc))\n",
        "  all_scores.append(sc)"
      ],
      "metadata": {
        "id": "iFk0lrRQNvaB"
      },
      "execution_count": null,
      "outputs": []
    },
    {
      "cell_type": "code",
      "source": [
        "print(len(avg_scores))"
      ],
      "metadata": {
        "colab": {
          "base_uri": "https://localhost:8080/"
        },
        "id": "sERBzzIqOxz4",
        "outputId": "88c9caad-7c65-47f5-ee12-662045c533c6"
      },
      "execution_count": null,
      "outputs": [
        {
          "output_type": "stream",
          "name": "stdout",
          "text": [
            "20\n"
          ]
        }
      ]
    },
    {
      "cell_type": "code",
      "source": [
        "print(avg_scores)"
      ],
      "metadata": {
        "colab": {
          "base_uri": "https://localhost:8080/"
        },
        "id": "Zk3IK1blO2g7",
        "outputId": "296a78d2-124f-4369-d489-b1fc6f7db74a"
      },
      "execution_count": null,
      "outputs": [
        {
          "output_type": "stream",
          "name": "stdout",
          "text": [
            "[0.831830985915493, 0.8718712273641852, 0.8319114688128775, 0.8404828973843059, 0.8290945674044264, 0.8404426559356135, 0.817625754527163, 0.8290543259557344, 0.8119114688128773, 0.817625754527163, 0.817625754527163, 0.8319114688128773, 0.8176659959758551, 0.823380281690141, 0.8090945674044265, 0.8090945674044265, 0.8033802816901409, 0.8090945674044265, 0.7919517102615694, 0.800523138832998]\n"
          ]
        }
      ]
    },
    {
      "cell_type": "code",
      "source": [
        "print(len(all_scores))"
      ],
      "metadata": {
        "colab": {
          "base_uri": "https://localhost:8080/"
        },
        "id": "O2x2zqZcO7ss",
        "outputId": "d2d9f213-a9f7-48b4-bf4f-c1f15101db37"
      },
      "execution_count": null,
      "outputs": [
        {
          "output_type": "stream",
          "name": "stdout",
          "text": [
            "20\n"
          ]
        }
      ]
    },
    {
      "cell_type": "code",
      "source": [
        "print(all_scores[:4])"
      ],
      "metadata": {
        "colab": {
          "base_uri": "https://localhost:8080/"
        },
        "id": "Oc5dXB2uO_75",
        "outputId": "9a518a6a-dada-4ddb-fa0a-ff46f8f512b1"
      },
      "execution_count": null,
      "outputs": [
        {
          "output_type": "stream",
          "name": "stdout",
          "text": [
            "[array([0.85915493, 0.75714286, 0.81428571, 0.88571429, 0.84285714]), array([0.84507042, 0.82857143, 0.82857143, 0.94285714, 0.91428571]), array([0.83098592, 0.77142857, 0.75714286, 0.92857143, 0.87142857]), array([0.83098592, 0.8       , 0.77142857, 0.92857143, 0.87142857])]\n"
          ]
        }
      ]
    },
    {
      "cell_type": "code",
      "source": [
        "from matplotlib import pyplot as plt\n",
        "fig=plt.figure()\n",
        "ax=fig.add_subplot(111)\n",
        "plt.xticks(np.arange(0,21))\n",
        "ax.plot(parameter_values,avg_scores,'-0')"
      ],
      "metadata": {
        "colab": {
          "base_uri": "https://localhost:8080/",
          "height": 448
        },
        "id": "ols3yEunPGWA",
        "outputId": "c154d350-a513-4e57-9d22-712837aea4c2"
      },
      "execution_count": null,
      "outputs": [
        {
          "output_type": "execute_result",
          "data": {
            "text/plain": [
              "[<matplotlib.lines.Line2D at 0x7f00ed44c220>]"
            ]
          },
          "metadata": {},
          "execution_count": 31
        },
        {
          "output_type": "display_data",
          "data": {
            "text/plain": [
              "<Figure size 640x480 with 1 Axes>"
            ],
            "image/png": "[encoded data removed]"
          },
          "metadata": {}
        }
      ]
    },
    {
      "cell_type": "code",
      "source": [
        "from sklearn.preprocessing import MinMaxScaler\n",
        "from sklearn.pipeline import Pipeline\n",
        "pipe=Pipeline([('scale',MinMaxScaler()),('predict',KNeighborsClassifier())])\n",
        "scores=cross_val_score(pipe,X,y,scoring='accuracy')\n",
        "print(\"三次正確率結果為{}%\".format(scores*100))"
      ],
      "metadata": {
        "colab": {
          "base_uri": "https://localhost:8080/"
        },
        "id": "N1y8tM5-Pv-Z",
        "outputId": "aea3a96d-c5d9-4cd0-abc0-0f12d6f0a671"
      },
      "execution_count": null,
      "outputs": [
        {
          "output_type": "stream",
          "name": "stdout",
          "text": [
            "三次正確率結果為[84.50704225 80.         77.14285714 88.57142857 84.28571429]%\n"
          ]
        }
      ]
    },
    {
      "cell_type": "markdown",
      "source": [],
      "metadata": {
        "id": "7fPxnflVRHU1"
      }
    },
    {
      "cell_type": "code",
      "source": [
        "print(\"平均正確率為:{0:,.1f}%\".format(np.mean(scores)*100))"
      ],
      "metadata": {
        "colab": {
          "base_uri": "https://localhost:8080/"
        },
        "id": "vWOATGFBQxcH",
        "outputId": "69b9c82a-6c72-46e1-a4b2-153c1ffa2c81"
      },
      "execution_count": null,
      "outputs": [
        {
          "output_type": "stream",
          "name": "stdout",
          "text": [
            "平均正確率為:82.9%\n"
          ]
        }
      ]
    }
  ]
}